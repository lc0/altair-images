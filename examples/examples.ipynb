{
 "nbformat": 4,
 "nbformat_minor": 2,
 "metadata": {
  "language_info": {
   "name": "python",
   "codemirror_mode": {
    "name": "ipython",
    "version": 3
   },
   "version": "3.8.1-final"
  },
  "orig_nbformat": 2,
  "file_extension": ".py",
  "mimetype": "text/x-python",
  "name": "python",
  "npconvert_exporter": "python",
  "pygments_lexer": "ipython3",
  "version": 3,
  "kernelspec": {
   "name": "python38164bitwebauthnconda85283932b131458d899361d70f4ff0eb",
   "display_name": "Python 3.8.1 64-bit ('webauthn': conda)"
  }
 },
 "cells": [
  {
   "cell_type": "code",
   "execution_count": 1,
   "metadata": {},
   "outputs": [],
   "source": [
    "import numpy as np\n",
    "\n",
    "sample_images = np.load('../tests/sample_images_100.npy')"
   ]
  },
  {
   "cell_type": "markdown",
   "metadata": {},
   "source": [
    "# Create Flask app \n",
    "given `image_transform_func`"
   ]
  },
  {
   "cell_type": "code",
   "execution_count": 2,
   "metadata": {},
   "outputs": [],
   "source": [
    "from altair_images.serving import _create_flask_app\n",
    "\n",
    "# _create_flask_app\n",
    "image_func = lambda image_id: sample_images[image_id].reshape(28, 28)*255\n",
    "app = _create_flask_app(sample_images, image_func)"
   ]
  },
  {
   "cell_type": "code",
   "execution_count": 3,
   "metadata": {},
   "outputs": [
    {
     "output_type": "stream",
     "name": "stdout",
     "text": "* Serving Flask app \"altair_images.serving\" (lazy loading)\n * Environment: production\n\u001b[31m   WARNING: Do not use the development server in a production environment.\u001b[0m\n\u001b[2m   Use a production WSGI server instead.\u001b[0m\n * Debug mode: off\n * Running on http://127.0.0.1:5000/ (Press CTRL+C to quit)\n"
    }
   ],
   "source": [
    "app.run()"
   ]
  },
  {
   "cell_type": "markdown",
   "metadata": {},
   "source": [
    "## Serve in separate thread\n",
    "\n",
    "More control over life cycle of thread and and custom Flask app to use"
   ]
  },
  {
   "cell_type": "code",
   "execution_count": 4,
   "metadata": {},
   "outputs": [],
   "source": [
    "from altair_images.thread import start_flask_thread"
   ]
  },
  {
   "cell_type": "code",
   "execution_count": 5,
   "metadata": {},
   "outputs": [
    {
     "output_type": "execute_result",
     "data": {
      "text/plain": "(<ServerThread(Thread-4, started 123145524084736)>, 'http://0.0.0.0:5555')"
     },
     "metadata": {},
     "execution_count": 5
    }
   ],
   "source": [
    "server_thread, serving_url = start_flask_thread(app, host='0.0.0.0', port=5555, use_ngrok=False)\n",
    "\n",
    "server_thread, serving_url"
   ]
  },
  {
   "cell_type": "code",
   "execution_count": 7,
   "metadata": {},
   "outputs": [
    {
     "output_type": "stream",
     "name": "stderr",
     "text": "127.0.0.1 - - [18/Apr/2020 01:01:45] \"\u001b[37mGET / HTTP/1.1\u001b[0m\" 200 -\nINFO:werkzeug:127.0.0.1 - - [18/Apr/2020 01:01:45] \"\u001b[37mGET / HTTP/1.1\u001b[0m\" 200 -\nit all works fine"
    }
   ],
   "source": [
    "!curl $serving_url"
   ]
  },
  {
   "cell_type": "markdown",
   "metadata": {},
   "source": [
    "## Just serve me images"
   ]
  },
  {
   "cell_type": "code",
   "execution_count": 8,
   "metadata": {},
   "outputs": [
    {
     "output_type": "execute_result",
     "data": {
      "text/plain": "'http://127.0.0.1:5555'"
     },
     "metadata": {},
     "execution_count": 8
    }
   ],
   "source": [
    "from altair_images import serve_images\n",
    "\n",
    "image_func = lambda image_id: sample_images[image_id].reshape(28, 28)*255\n",
    "serving_url = serve_images(sample_images, image_func)\n",
    "\n",
    "serving_url"
   ]
  },
  {
   "cell_type": "code",
   "execution_count": 9,
   "metadata": {},
   "outputs": [
    {
     "output_type": "stream",
     "name": "stderr",
     "text": "127.0.0.1 - - [18/Apr/2020 01:01:56] \"\u001b[37mGET /img/1.png HTTP/1.1\u001b[0m\" 200 -\nINFO:werkzeug:127.0.0.1 - - [18/Apr/2020 01:01:56] \"\u001b[37mGET /img/1.png HTTP/1.1\u001b[0m\" 200 -\n"
    },
    {
     "output_type": "execute_result",
     "data": {
      "image/png": "[encoded data removed]",
      "text/plain": "<IPython.core.display.Image object>"
     },
     "metadata": {},
     "execution_count": 9
    }
   ],
   "source": [
    "import requests\n",
    "from IPython import display\n",
    "\n",
    "display.Image(requests.get(f\"{serving_url}/img/1.png\").content)"
   ]
  },
  {
   "cell_type": "markdown",
   "metadata": {},
   "source": [
    "## I only would like to plot with images"
   ]
  },
  {
   "cell_type": "code",
   "execution_count": 10,
   "metadata": {},
   "outputs": [],
   "source": [
    "import numpy as np\n",
    "\n",
    "from altair_images import plot_with_image\n",
    "\n",
    "embedding_data = np.load('../tests/pca_data_100.npy')\n",
    "sample_images = np.load('../tests/sample_images_100.npy')\n",
    "labels = np.load('../tests/sample_labels_100.npy')"
   ]
  },
  {
   "cell_type": "code",
   "execution_count": 11,
   "metadata": {},
   "outputs": [
    {
     "output_type": "stream",
     "name": "stdout",
     "text": "x         y  label                        image_url\n0  17.889992  2.614562    9.0  http://127.0.0.1:5555/img/0.png\n1  -5.298507 -4.889330    0.0  http://127.0.0.1:5555/img/1.png\n2  -3.718495 -4.328336    0.0  http://127.0.0.1:5555/img/2.png\n3  -3.008552 -5.396465    3.0  http://127.0.0.1:5555/img/3.png\n4  -5.074282 -6.034938    0.0  http://127.0.0.1:5555/img/4.png\n"
    },
    {
     "output_type": "execute_result",
     "data": {
      "text/html": "\n<div id=\"altair-viz-1fb76471399f4f57afde1c51a637c606\"></div>\n<script type=\"text/javascript\">\n  (function(spec, embedOpt){\n    let outputDiv = document.currentScript.previousElementSibling;\n    if (outputDiv.id !== \"altair-viz-1fb76471399f4f57afde1c51a637c606\") {\n      outputDiv = document.getElementById(\"altair-viz-1fb76471399f4f57afde1c51a637c606\");\n    }\n    const paths = {\n      \"vega\": \"https://cdn.jsdelivr.net/npm//vega@5?noext\",\n      \"vega-lib\": \"https://cdn.jsdelivr.net/npm//vega-lib?noext\",\n      \"vega-lite\": \"https://cdn.jsdelivr.net/npm//vega-lite@4.8.1?noext\",\n      \"vega-embed\": \"https://cdn.jsdelivr.net/npm//vega-embed@6?noext\",\n    };\n\n    function loadScript(lib) {\n      return new Promise(function(resolve, reject) {\n        var s = document.createElement('script');\n        s.src = paths[lib];\n        s.async = true;\n        s.onload = () => resolve(paths[lib]);\n        s.onerror = () => reject(`Error loading script: ${paths[lib]}`);\n        document.getElementsByTagName(\"head\")[0].appendChild(s);\n      });\n    }\n\n    function showError(err) {\n      outputDiv.innerHTML = `<div class=\"error\" style=\"color:red;\">${err}</div>`;\n      throw err;\n    }\n\n    function displayChart(vegaEmbed) {\n      vegaEmbed(outputDiv, spec, embedOpt)\n        .catch(err => showError(`Javascript Error: ${err.message}<br>This usually means there's a typo in your chart specification. See the javascript console for the full traceback.`));\n    }\n\n    if(typeof define === \"function\" && define.amd) {\n      requirejs.config({paths});\n      require([\"vega-embed\"], displayChart, err => showError(`Error loading script: ${err.message}`));\n    } else if (typeof vegaEmbed === \"function\") {\n      displayChart(vegaEmbed);\n    } else {\n      loadScript(\"vega\")\n        .then(() => loadScript(\"vega-lite\"))\n        .then(() => loadScript(\"vega-embed\"))\n        .catch(showError)\n        .then(() => displayChart(vegaEmbed));\n    }\n  })({\"config\": {\"view\": {\"continuousWidth\": 400, \"continuousHeight\": 300}}, \"hconcat\": [{\"mark\": {\"type\": \"circle\", \"radius\": 50}, \"encoding\": {\"color\": {\"type\": \"nominal\", \"field\": \"label\"}, \"x\": {\"type\": \"quantitative\", \"field\": \"x\"}, \"y\": {\"type\": \"quantitative\", \"field\": \"y\"}}, \"selection\": {\"selector001\": {\"type\": \"multi\", \"on\": \"mouseover\", \"toggle\": true, \"empty\": \"none\"}}}, {\"mark\": \"image\", \"encoding\": {\"url\": {\"type\": \"nominal\", \"field\": \"image_url\"}}, \"height\": 100, \"transform\": [{\"filter\": {\"selection\": \"selector001\"}}], \"width\": 100}], \"data\": {\"name\": \"data-a3a4c378f217a8978744db5336ea4f08\"}, \"$schema\": \"https://vega.github.io/schema/vega-lite/v4.8.1.json\", \"datasets\": {\"data-a3a4c378f217a8978744db5336ea4f08\": [{\"x\": 17.889991760253906, \"y\": 2.6145622730255127, \"label\": 9.0, \"image_url\": \"http://127.0.0.1:5555/img/0.png\"}, {\"x\": -5.298506736755371, \"y\": -4.88932991027832, \"label\": 0.0, \"image_url\": \"http://127.0.0.1:5555/img/1.png\"}, {\"x\": -3.7184951305389404, \"y\": -4.328336238861084, \"label\": 0.0, \"image_url\": \"http://127.0.0.1:5555/img/2.png\"}, {\"x\": -3.008551836013794, \"y\": -5.396464824676514, \"label\": 3.0, \"image_url\": \"http://127.0.0.1:5555/img/3.png\"}, {\"x\": -5.074282169342041, \"y\": -6.034938335418701, \"label\": 0.0, \"image_url\": \"http://127.0.0.1:5555/img/4.png\"}, {\"x\": -5.001532077789307, \"y\": 7.40855073928833, \"label\": 2.0, \"image_url\": \"http://127.0.0.1:5555/img/5.png\"}, {\"x\": 4.3246002197265625, \"y\": -2.7482590675354004, \"label\": 7.0, \"image_url\": \"http://127.0.0.1:5555/img/6.png\"}, {\"x\": -3.762972116470337, \"y\": 11.623842239379883, \"label\": 2.0, \"image_url\": \"http://127.0.0.1:5555/img/7.png\"}, {\"x\": 7.754240989685059, \"y\": -2.8252828121185303, \"label\": 5.0, \"image_url\": \"http://127.0.0.1:5555/img/8.png\"}, {\"x\": 12.115011215209961, \"y\": 3.5617337226867676, \"label\": 5.0, \"image_url\": \"http://127.0.0.1:5555/img/9.png\"}, {\"x\": -4.0744194984436035, \"y\": -6.137558460235596, \"label\": 0.0, \"image_url\": \"http://127.0.0.1:5555/img/10.png\"}, {\"x\": 11.85066032409668, \"y\": -0.8287497162818909, \"label\": 9.0, \"image_url\": \"http://127.0.0.1:5555/img/11.png\"}, {\"x\": 3.3380980491638184, \"y\": -2.3844401836395264, \"label\": 5.0, \"image_url\": \"http://127.0.0.1:5555/img/12.png\"}, {\"x\": 2.5850579738616943, \"y\": -1.6881282329559326, \"label\": 5.0, \"image_url\": \"http://127.0.0.1:5555/img/13.png\"}, {\"x\": 3.561691999435425, \"y\": -4.144939422607422, \"label\": 7.0, \"image_url\": \"http://127.0.0.1:5555/img/14.png\"}, {\"x\": 16.471538543701172, \"y\": 1.1859327554702759, \"label\": 9.0, \"image_url\": \"http://127.0.0.1:5555/img/15.png\"}, {\"x\": -5.13634729385376, \"y\": -7.087367534637451, \"label\": 1.0, \"image_url\": \"http://127.0.0.1:5555/img/16.png\"}, {\"x\": -4.462042331695557, \"y\": -3.676933526992798, \"label\": 0.0, \"image_url\": \"http://127.0.0.1:5555/img/17.png\"}, {\"x\": -3.7853901386260986, \"y\": 7.876190662384033, \"label\": 6.0, \"image_url\": \"http://127.0.0.1:5555/img/18.png\"}, {\"x\": -2.537661552429199, \"y\": 1.4206926822662354, \"label\": 4.0, \"image_url\": \"http://127.0.0.1:5555/img/19.png\"}, {\"x\": -3.148179531097412, \"y\": -6.443025588989258, \"label\": 3.0, \"image_url\": \"http://127.0.0.1:5555/img/20.png\"}, {\"x\": -3.47794508934021, \"y\": -4.938603401184082, \"label\": 1.0, \"image_url\": \"http://127.0.0.1:5555/img/21.png\"}, {\"x\": -2.581686496734619, \"y\": 2.2660281658172607, \"label\": 4.0, \"image_url\": \"http://127.0.0.1:5555/img/22.png\"}, {\"x\": 1.5887588262557983, \"y\": 4.278507709503174, \"label\": 8.0, \"image_url\": \"http://127.0.0.1:5555/img/23.png\"}, {\"x\": -6.488696575164795, \"y\": 9.064136505126953, \"label\": 4.0, \"image_url\": \"http://127.0.0.1:5555/img/24.png\"}, {\"x\": -4.893061637878418, \"y\": -2.207082986831665, \"label\": 3.0, \"image_url\": \"http://127.0.0.1:5555/img/25.png\"}, {\"x\": -5.438845157623291, \"y\": -2.622992992401123, \"label\": 0.0, \"image_url\": \"http://127.0.0.1:5555/img/26.png\"}, {\"x\": -5.985927581787109, \"y\": 10.408113479614258, \"label\": 2.0, \"image_url\": \"http://127.0.0.1:5555/img/27.png\"}, {\"x\": -4.558135509490967, \"y\": 5.597891807556152, \"label\": 4.0, \"image_url\": \"http://127.0.0.1:5555/img/28.png\"}, {\"x\": -4.686857223510742, \"y\": 12.435386657714844, \"label\": 4.0, \"image_url\": \"http://127.0.0.1:5555/img/29.png\"}, {\"x\": 0.35892412066459656, \"y\": -3.771770477294922, \"label\": 5.0, \"image_url\": \"http://127.0.0.1:5555/img/30.png\"}, {\"x\": -3.4138951301574707, \"y\": -5.818563938140869, \"label\": 3.0, \"image_url\": \"http://127.0.0.1:5555/img/31.png\"}, {\"x\": -4.227847576141357, \"y\": 7.0180559158325195, \"label\": 6.0, \"image_url\": \"http://127.0.0.1:5555/img/32.png\"}, {\"x\": -2.8206288814544678, \"y\": 1.3953183889389038, \"label\": 6.0, \"image_url\": \"http://127.0.0.1:5555/img/33.png\"}, {\"x\": -2.8914313316345215, \"y\": -3.7672743797302246, \"label\": 0.0, \"image_url\": \"http://127.0.0.1:5555/img/34.png\"}, {\"x\": -0.12483435869216919, \"y\": 3.1719138622283936, \"label\": 8.0, \"image_url\": \"http://127.0.0.1:5555/img/35.png\"}, {\"x\": 8.72350025177002, \"y\": -0.9141794443130493, \"label\": 5.0, \"image_url\": \"http://127.0.0.1:5555/img/36.png\"}, {\"x\": -2.55837082862854, \"y\": 2.5211524963378906, \"label\": 2.0, \"image_url\": \"http://127.0.0.1:5555/img/37.png\"}, {\"x\": -6.422176837921143, \"y\": -9.203668594360352, \"label\": 1.0, \"image_url\": \"http://127.0.0.1:5555/img/38.png\"}, {\"x\": -6.51804780960083, \"y\": 10.402361869812012, \"label\": 6.0, \"image_url\": \"http://127.0.0.1:5555/img/39.png\"}, {\"x\": -4.898011207580566, \"y\": 7.23632287979126, \"label\": 6.0, \"image_url\": \"http://127.0.0.1:5555/img/40.png\"}, {\"x\": 7.762199878692627, \"y\": -2.616044282913208, \"label\": 7.0, \"image_url\": \"http://127.0.0.1:5555/img/41.png\"}, {\"x\": 14.328312873840332, \"y\": 0.24034740030765533, \"label\": 9.0, \"image_url\": \"http://127.0.0.1:5555/img/42.png\"}, {\"x\": 3.3732709884643555, \"y\": -1.3597588539123535, \"label\": 5.0, \"image_url\": \"http://127.0.0.1:5555/img/43.png\"}, {\"x\": 20.967689514160156, \"y\": 1.4666794538497925, \"label\": 9.0, \"image_url\": \"http://127.0.0.1:5555/img/44.png\"}, {\"x\": -4.814143180847168, \"y\": 6.344037055969238, \"label\": 2.0, \"image_url\": \"http://127.0.0.1:5555/img/45.png\"}, {\"x\": 5.233398914337158, \"y\": -1.8991048336029053, \"label\": 7.0, \"image_url\": \"http://127.0.0.1:5555/img/46.png\"}, {\"x\": -4.7200446128845215, \"y\": -5.315973281860352, \"label\": 3.0, \"image_url\": \"http://127.0.0.1:5555/img/47.png\"}, {\"x\": -5.137068271636963, \"y\": -5.588669300079346, \"label\": 0.0, \"image_url\": \"http://127.0.0.1:5555/img/48.png\"}, {\"x\": -5.543989181518555, \"y\": -1.5818760395050049, \"label\": 3.0, \"image_url\": \"http://127.0.0.1:5555/img/49.png\"}, {\"x\": -5.042379379272461, \"y\": -5.640260219573975, \"label\": 3.0, \"image_url\": \"http://127.0.0.1:5555/img/50.png\"}, {\"x\": -3.5868494510650635, \"y\": -6.801671028137207, \"label\": 3.0, \"image_url\": \"http://127.0.0.1:5555/img/51.png\"}, {\"x\": 4.273512363433838, \"y\": -2.829332113265991, \"label\": 7.0, \"image_url\": \"http://127.0.0.1:5555/img/52.png\"}, {\"x\": -5.5540337562561035, \"y\": 9.134013175964355, \"label\": 2.0, \"image_url\": \"http://127.0.0.1:5555/img/53.png\"}, {\"x\": -3.46437406539917, \"y\": 1.1467832326889038, \"label\": 2.0, \"image_url\": \"http://127.0.0.1:5555/img/54.png\"}, {\"x\": -4.1109538078308105, \"y\": -2.6719613075256348, \"label\": 6.0, \"image_url\": \"http://127.0.0.1:5555/img/55.png\"}, {\"x\": -2.8173458576202393, \"y\": -1.107649803161621, \"label\": 6.0, \"image_url\": \"http://127.0.0.1:5555/img/56.png\"}, {\"x\": -1.7533851861953735, \"y\": -1.7131280899047852, \"label\": 8.0, \"image_url\": \"http://127.0.0.1:5555/img/57.png\"}, {\"x\": -4.549408435821533, \"y\": -6.512879848480225, \"label\": 3.0, \"image_url\": \"http://127.0.0.1:5555/img/58.png\"}, {\"x\": -1.5805389881134033, \"y\": -4.34375524520874, \"label\": 3.0, \"image_url\": \"http://127.0.0.1:5555/img/59.png\"}, {\"x\": 11.737628936767578, \"y\": 2.7183923721313477, \"label\": 5.0, \"image_url\": \"http://127.0.0.1:5555/img/60.png\"}, {\"x\": -3.1999118328094482, \"y\": -3.078277349472046, \"label\": 0.0, \"image_url\": \"http://127.0.0.1:5555/img/61.png\"}, {\"x\": 0.3001351058483124, \"y\": -1.7406079769134521, \"label\": 5.0, \"image_url\": \"http://127.0.0.1:5555/img/62.png\"}, {\"x\": -0.3000653386116028, \"y\": -3.963062286376953, \"label\": 5.0, \"image_url\": \"http://127.0.0.1:5555/img/63.png\"}, {\"x\": -3.1635608673095703, \"y\": -5.961876392364502, \"label\": 0.0, \"image_url\": \"http://127.0.0.1:5555/img/64.png\"}, {\"x\": -5.075597763061523, \"y\": 7.0242462158203125, \"label\": 2.0, \"image_url\": \"http://127.0.0.1:5555/img/65.png\"}, {\"x\": -5.173596382141113, \"y\": -5.830494403839111, \"label\": 0.0, \"image_url\": \"http://127.0.0.1:5555/img/66.png\"}, {\"x\": -3.5250232219696045, \"y\": -4.872135639190674, \"label\": 0.0, \"image_url\": \"http://127.0.0.1:5555/img/67.png\"}, {\"x\": -3.7573606967926025, \"y\": 10.925789833068848, \"label\": 4.0, \"image_url\": \"http://127.0.0.1:5555/img/68.png\"}, {\"x\": -5.015953063964844, \"y\": -8.226372718811035, \"label\": 1.0, \"image_url\": \"http://127.0.0.1:5555/img/69.png\"}, {\"x\": 0.16014347970485687, \"y\": -1.4334876537322998, \"label\": 3.0, \"image_url\": \"http://127.0.0.1:5555/img/70.png\"}, {\"x\": -6.478200435638428, \"y\": -8.601675033569336, \"label\": 1.0, \"image_url\": \"http://127.0.0.1:5555/img/71.png\"}, {\"x\": -3.572153329849243, \"y\": -1.0325002670288086, \"label\": 6.0, \"image_url\": \"http://127.0.0.1:5555/img/72.png\"}, {\"x\": -4.739821910858154, \"y\": -4.963644027709961, \"label\": 3.0, \"image_url\": \"http://127.0.0.1:5555/img/73.png\"}, {\"x\": -5.596965789794922, \"y\": -9.328691482543945, \"label\": 1.0, \"image_url\": \"http://127.0.0.1:5555/img/74.png\"}, {\"x\": -6.22488260269165, \"y\": 2.7012939453125, \"label\": 4.0, \"image_url\": \"http://127.0.0.1:5555/img/75.png\"}, {\"x\": -1.6900135278701782, \"y\": -1.4939411878585815, \"label\": 4.0, \"image_url\": \"http://127.0.0.1:5555/img/76.png\"}, {\"x\": -5.524954795837402, \"y\": -0.6152727603912354, \"label\": 6.0, \"image_url\": \"http://127.0.0.1:5555/img/77.png\"}, {\"x\": -4.990635871887207, \"y\": -7.5350260734558105, \"label\": 1.0, \"image_url\": \"http://127.0.0.1:5555/img/78.png\"}, {\"x\": 15.163363456726074, \"y\": -0.31927987933158875, \"label\": 9.0, \"image_url\": \"http://127.0.0.1:5555/img/79.png\"}, {\"x\": -6.817819595336914, \"y\": -7.83302116394043, \"label\": 1.0, \"image_url\": \"http://127.0.0.1:5555/img/80.png\"}, {\"x\": -2.6946158409118652, \"y\": -5.221377372741699, \"label\": 3.0, \"image_url\": \"http://127.0.0.1:5555/img/81.png\"}, {\"x\": 5.642467498779297, \"y\": -1.7159582376480103, \"label\": 5.0, \"image_url\": \"http://127.0.0.1:5555/img/82.png\"}, {\"x\": 5.998234748840332, \"y\": -2.3670966625213623, \"label\": 7.0, \"image_url\": \"http://127.0.0.1:5555/img/83.png\"}, {\"x\": 24.188173294067383, \"y\": 2.8429059982299805, \"label\": 9.0, \"image_url\": \"http://127.0.0.1:5555/img/84.png\"}, {\"x\": 5.630329608917236, \"y\": -1.664762020111084, \"label\": 7.0, \"image_url\": \"http://127.0.0.1:5555/img/85.png\"}, {\"x\": -6.533634185791016, \"y\": -8.603506088256836, \"label\": 1.0, \"image_url\": \"http://127.0.0.1:5555/img/86.png\"}, {\"x\": 4.268921852111816, \"y\": -3.384021282196045, \"label\": 7.0, \"image_url\": \"http://127.0.0.1:5555/img/87.png\"}, {\"x\": 20.469877243041992, \"y\": 0.38776612281799316, \"label\": 9.0, \"image_url\": \"http://127.0.0.1:5555/img/88.png\"}, {\"x\": 11.899604797363281, \"y\": -0.8195076584815979, \"label\": 9.0, \"image_url\": \"http://127.0.0.1:5555/img/89.png\"}, {\"x\": 10.057966232299805, \"y\": -0.5410109758377075, \"label\": 9.0, \"image_url\": \"http://127.0.0.1:5555/img/90.png\"}, {\"x\": -1.239277958869934, \"y\": -5.015941143035889, \"label\": 3.0, \"image_url\": \"http://127.0.0.1:5555/img/91.png\"}, {\"x\": -2.3939781188964844, \"y\": 1.0267351865768433, \"label\": 2.0, \"image_url\": \"http://127.0.0.1:5555/img/92.png\"}, {\"x\": 12.848003387451172, \"y\": -0.34045174717903137, \"label\": 9.0, \"image_url\": \"http://127.0.0.1:5555/img/93.png\"}, {\"x\": -3.726686954498291, \"y\": -3.1520755290985107, \"label\": 3.0, \"image_url\": \"http://127.0.0.1:5555/img/94.png\"}, {\"x\": -4.127920150756836, \"y\": 6.570140838623047, \"label\": 6.0, \"image_url\": \"http://127.0.0.1:5555/img/95.png\"}, {\"x\": -3.273470401763916, \"y\": -1.256691336631775, \"label\": 4.0, \"image_url\": \"http://127.0.0.1:5555/img/96.png\"}, {\"x\": -5.502248287200928, \"y\": -7.859081268310547, \"label\": 1.0, \"image_url\": \"http://127.0.0.1:5555/img/97.png\"}, {\"x\": -5.584426403045654, \"y\": -7.744547367095947, \"label\": 1.0, \"image_url\": \"http://127.0.0.1:5555/img/98.png\"}, {\"x\": 1.0264713764190674, \"y\": 6.783916473388672, \"label\": 8.0, \"image_url\": \"http://127.0.0.1:5555/img/99.png\"}]}}, {\"mode\": \"vega-lite\"});\n</script>",
      "text/plain": "alt.HConcatChart(...)"
     },
     "metadata": {},
     "execution_count": 11
    }
   ],
   "source": [
    "plot_with_image(embedding_data, labels, sample_images)"
   ]
  },
  {
   "cell_type": "code",
   "execution_count": null,
   "metadata": {},
   "outputs": [],
   "source": []
  }
 ]
}